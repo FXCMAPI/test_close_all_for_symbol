{
 "cells": [
  {
   "cell_type": "code",
   "execution_count": 1,
   "id": "d28fab35",
   "metadata": {},
   "outputs": [],
   "source": [
    "import fxcmpy\n",
    "import numpy as np\n",
    "import time"
   ]
  },
  {
   "cell_type": "code",
   "execution_count": 2,
   "id": "47c01d65",
   "metadata": {},
   "outputs": [],
   "source": [
    "# function to get info about current open positions - currency, amount and side\n",
    "def get_positions():\n",
    "    for i in range(len(con.get_open_positions(kind='list'))):\n",
    "        print(f\"{con.get_open_positions(kind='list')[i]['currency']}: {con.get_open_positions(kind='list')[i]['amountK']} - Long: {con.get_open_positions(kind='list')[i]['isBuy']}\")"
   ]
  },
  {
   "cell_type": "code",
   "execution_count": 3,
   "id": "d71d695c",
   "metadata": {},
   "outputs": [],
   "source": [
    "# test instruments\n",
    "instruments = ['EUR/USD', 'USD/JPY', 'AUD/USD', 'GBP/USD']\n",
    "target_positions =  [10.00,  0.00,  35.00, -40.00]\n",
    "current_positions = [10.00, 20.00, -30.00,  45.00]\n",
    "TIME_TO_SLEEP = 5"
   ]
  },
  {
   "cell_type": "code",
   "execution_count": 4,
   "id": "0af60fb3",
   "metadata": {},
   "outputs": [],
   "source": [
    "# connecting and closing all positions\n",
    "TOKEN = 'ab0d332e362719ca0474b276adead6b7efafd1da'\n",
    "SERVER = 'demo'\n",
    "con = fxcmpy.fxcmpy(access_token=TOKEN, log_file='log.txt', log_level='debug', server=SERVER)\n",
    "\n",
    "con.close_all()\n",
    "time.sleep(TIME_TO_SLEEP)\n",
    "get_positions()"
   ]
  },
  {
   "cell_type": "code",
   "execution_count": 5,
   "id": "3a4e3a7c",
   "metadata": {},
   "outputs": [],
   "source": [
    "# opening current positions for the test\n",
    "for i in range(len(instruments)):\n",
    "    if current_positions[i] > 0:\n",
    "        con.create_market_buy_order(symbol=instruments[i], amount=current_positions[i])\n",
    "    elif current_positions[i] < 0:\n",
    "        con.create_market_sell_order(symbol=instruments[i], amount=np.abs(current_positions[i]))\n",
    "    time.sleep(TIME_TO_SLEEP)"
   ]
  },
  {
   "cell_type": "code",
   "execution_count": 6,
   "id": "adad7177",
   "metadata": {},
   "outputs": [
    {
     "name": "stdout",
     "output_type": "stream",
     "text": [
      "EUR/USD: 10 - Long: True\n",
      "USD/JPY: 20 - Long: True\n",
      "AUD/USD: 30 - Long: False\n",
      "GBP/USD: 45 - Long: True\n"
     ]
    }
   ],
   "source": [
    "# check current positions\n",
    "get_positions()"
   ]
  },
  {
   "cell_type": "code",
   "execution_count": 7,
   "id": "efaffb98",
   "metadata": {},
   "outputs": [
    {
     "name": "stdout",
     "output_type": "stream",
     "text": [
      "EUR/USD expected to remain the same as they are 1000 in both target positions and current positions\n",
      "EUR/USD: 10 - Long: True\n",
      "USD/JPY: 20 - Long: True\n",
      "AUD/USD: 30 - Long: False\n",
      "GBP/USD: 45 - Long: True\n",
      "\n",
      "USD/JPY expected to get closed as it is 0 in target positions\n",
      "EUR/USD: 10 - Long: True\n",
      "AUD/USD: 30 - Long: False\n",
      "GBP/USD: 45 - Long: True\n",
      "\n",
      "AUD/USD short position expected to be closed and long position to be opened\n",
      "Buy AUD/USD 35.0\n",
      "EUR/USD: 10 - Long: True\n",
      "GBP/USD: 45 - Long: True\n",
      "AUD/USD: 35 - Long: True\n",
      "\n",
      "GBP/USD long position expected to be closed and short position to be open\n",
      "Sell GBP/USD 40.0\n",
      "EUR/USD: 10 - Long: True\n",
      "AUD/USD: 35 - Long: True\n",
      "GBP/USD: 40 - Long: False\n"
     ]
    }
   ],
   "source": [
    "for i, instrument in enumerate(instruments):\n",
    "\n",
    "    # EUR/USD expected to remain the same as they are 1000 in both target positions and current positions\n",
    "    if target_positions[i] == current_positions[i]:\n",
    "        print('EUR/USD expected to remain the same as they are 1000 in both target positions and current positions')\n",
    "        get_positions()\n",
    "        continue\n",
    "\n",
    "    # USD/JPY expected to get closed as it is 0 in target positions\n",
    "    elif target_positions[i] == 0:\n",
    "        print('\\nUSD/JPY expected to get closed as it is 0 in target positions')\n",
    "        con.close_all_for_symbol(instrument)\n",
    "        time.sleep(TIME_TO_SLEEP)\n",
    "        get_positions()\n",
    "        continue\n",
    "\n",
    "    # AUD/USD short position expected to be closed and long position to be opened\n",
    "    elif current_positions[i] < 0 and target_positions[i] > 0:\n",
    "        print('\\nAUD/USD short position expected to be closed and long position to be opened')\n",
    "        con.close_all_for_symbol(instrument)\n",
    "        time.sleep(TIME_TO_SLEEP)\n",
    "        order = None\n",
    "        while order is None:\n",
    "            order = con.create_market_buy_order(instrument, np.abs(target_positions[i]))\n",
    "        print('Buy ' + instrument + ' ' + str(np.abs(target_positions[i])))\n",
    "        get_positions()\n",
    "        continue\n",
    "\n",
    "    # GBP/USD long position expected to be closed and short position to be open\n",
    "    elif current_positions[i] > 0 and target_positions[i] < 0:\n",
    "        print('\\nGBP/USD long position expected to be closed and short position to be open')\n",
    "        con.close_all_for_symbol(instrument)\n",
    "        time.sleep(TIME_TO_SLEEP)\n",
    "        order = None\n",
    "        while order is None:\n",
    "            order = con.create_market_sell_order(instrument, np.abs(target_positions[i]))\n",
    "        print('Sell ' + instrument + ' ' + str(np.abs(target_positions[i])))\n",
    "        get_positions()\n",
    "        continue"
   ]
  },
  {
   "cell_type": "code",
   "execution_count": null,
   "id": "c11c3c2a",
   "metadata": {},
   "outputs": [],
   "source": []
  }
 ],
 "metadata": {
  "kernelspec": {
   "display_name": "Python 3",
   "language": "python",
   "name": "python3"
  },
  "language_info": {
   "codemirror_mode": {
    "name": "ipython",
    "version": 3
   },
   "file_extension": ".py",
   "mimetype": "text/x-python",
   "name": "python",
   "nbconvert_exporter": "python",
   "pygments_lexer": "ipython3",
   "version": "3.6.8"
  }
 },
 "nbformat": 4,
 "nbformat_minor": 5
}
